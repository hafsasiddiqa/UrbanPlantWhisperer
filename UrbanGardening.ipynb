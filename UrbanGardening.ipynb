{
  "cells": [
    {
      "cell_type": "markdown",
      "metadata": {
        "id": "view-in-github",
        "colab_type": "text"
      },
      "source": [
        "<a href=\"https://colab.research.google.com/github/hafsasiddiqa/UrbanPlantWhisperer/blob/main/UrbanGardening.ipynb\" target=\"_parent\"><img src=\"https://colab.research.google.com/assets/colab-badge.svg\" alt=\"Open In Colab\"/></a>"
      ]
    },
    {
      "cell_type": "markdown",
      "source": [
        "# **“Urban Plant Whisperer”**\n",
        "\n",
        "* A Chatbot for Urban Gardening and Plant Health.\n",
        "\n"
      ],
      "metadata": {
        "id": "W6dlPKXPCDya"
      }
    },
    {
      "cell_type": "code",
      "execution_count": null,
      "metadata": {
        "id": "iG4ayXtjQ5Lt"
      },
      "outputs": [],
      "source": [
        "%%capture --no-stderr\n",
        "!pip install -q langchain_google_genai langchain_core langchain_community langgraph tavily-python"
      ]
    },
    {
      "cell_type": "code",
      "execution_count": null,
      "metadata": {
        "id": "d8R7ILXVQ6w1"
      },
      "outputs": [],
      "source": [
        "from google.colab import userdata\n",
        "GEMINI_API_KEY = userdata.get('GEMINI_API_KEY')\n"
      ]
    },
    {
      "cell_type": "code",
      "execution_count": null,
      "metadata": {
        "id": "vcWiM-urXZAv"
      },
      "outputs": [],
      "source": [
        "from langchain_google_genai import ChatGoogleGenerativeAI\n",
        "from langchain_core.messages import AIMessage, HumanMessage, SystemMessage\n",
        "# Set up the API key and initialize the LLM\n",
        "from google.colab import userdata\n",
        "GEMINI_API_KEY = userdata.get('GEMINI_API_KEY')\n",
        "\n",
        "llm = ChatGoogleGenerativeAI(\n",
        "    model=\"gemini-1.5-flash\",\n",
        "    api_key=GEMINI_API_KEY,\n",
        "    temperature=0  # Keep responses deterministic for basic chatbot\n",
        ")\n"
      ]
    },
    {
      "cell_type": "markdown",
      "source": [
        "# ***How the Urban Plant Whisperer Chatbot Was Built***\n",
        "\n",
        "1. **Defining the Bot's Role**\n",
        "\n",
        "The chatbot was programmed as an urban gardening expert, capable of answering questions about:\n",
        "\n",
        "* Balcony gardening.\n",
        "\n",
        "* Indoor gardening.\n",
        "\n",
        "* Container gardening.\n",
        "\n",
        "* Eco-friendly practices.\n",
        "\n",
        "\n",
        "2. **Handling User Inputs**\n",
        "\n",
        " **HumanMessage** and **AIMessage** objects facilitate smooth exchanges between users and the bot. The conversation flow is structured so that:\n",
        "\n",
        "* HumanMessage captures user inputs.\n",
        "\n",
        "* AIMessage generates responses by leveraging the memory and role context.\n",
        "\n",
        "3. **Implementing Short-Term Memory**\n",
        "\n",
        "\n",
        "* Keep track of user queries and bot responses.\n",
        "\n",
        "* Enhance follow-up interactions by maintaining context.\n",
        "\n",
        "In this project, memory is simply a list of **SystemMessage**, **HumanMessage,** and **AIMessage**.\n",
        "\n"
      ],
      "metadata": {
        "id": "A7G_S7a5Ky1J"
      }
    },
    {
      "cell_type": "code",
      "execution_count": null,
      "metadata": {
        "id": "_clW-mHgYNem"
      },
      "outputs": [],
      "source": [
        "\n",
        "def urban_gardening_chatbot():\n",
        "    print(\"Welcome to Urban Plant Whisperer Chatbot!\")\n",
        "    print(\"Ask me anything about starting or improving your urban garden.\")\n",
        "    print(\"Type 'exit' or 'quit' to end the conversation.\")\n",
        "    print(\"Type 'check memory' to see the current memory.\\n\")\n",
        "\n",
        "    # Define the system message\n",
        "    system_message = SystemMessage(\n",
        "        content=\"You are an expert in urban gardening, providing tips, tricks, and step-by-step guidance to people interested in small-space gardening.\"\n",
        "    )\n",
        "\n",
        "    # Initialize short-term memory\n",
        "    memory = [system_message]\n",
        "\n",
        "# Start the conversation loop\n",
        "    while True:\n",
        "        user_input = input(\"You: \")\n",
        "\n",
        "        # Check for special commands\n",
        "        if user_input.lower() in ['exit', 'quit']:\n",
        "            print(\"Goodbye! Happy Gardening!\")\n",
        "            break\n",
        "        elif user_input.lower() == 'check memory':\n",
        "            print(\"\\nCurrent Memory:\")\n",
        "            for msg in memory:\n",
        "                if isinstance(msg, SystemMessage):\n",
        "                    print(f\"System: {msg.content}\")\n",
        "                elif isinstance(msg, HumanMessage):\n",
        "                    print(f\"You: {msg.content}\")\n",
        "                elif isinstance(msg, AIMessage):\n",
        "                    print(f\"Bot: {msg.content}\")\n",
        "            print(\"\\n\")\n",
        "            continue\n",
        "\n",
        "        # Define the user (human) message\n",
        "        human_message = HumanMessage(content=user_input)\n",
        "        memory.append(human_message)  # Add user input to memory\n",
        "\n",
        "        # Generate the AI's response\n",
        "        response = llm(memory)  # Pass the entire memory for context\n",
        "        ai_response = response.content\n",
        "\n",
        "        # Add AI's response to memory\n",
        "        memory.append(AIMessage(content=ai_response))\n",
        "\n",
        "        # Print the response\n",
        "        print(f\"Urban Gardening Bot: {ai_response}\")\n",
        "\n",
        "\n",
        "\n"
      ]
    },
    {
      "cell_type": "markdown",
      "source": [
        "# **Features of the Urban Plant Whisperer Chatbot**\n",
        "\n",
        "1. **Expert Knowledge Base:** The chatbot is pre-programmed to provide detailed guidance on urban gardening, including:\n",
        "\n",
        "* Choosing containers.\n",
        "\n",
        "* Selecting vegetables for small spaces.\n",
        "\n",
        "* Eco-friendly practices like composting.\n",
        "\n",
        "2. **Memory Management:**\n",
        "\n",
        "* ***Short-Term Memory:*** Remembers conversation history within a single session for context-aware responses.\n",
        "\n",
        "* ***Memory Inspection:*** Users can type \"check memory\" to review the session's memory.\n",
        "3. **Interactive Commands:**\n",
        "\n",
        "Users can quit the session by typing \"exit\" or \"quit.\"\n",
        "Dynamic context-based replies make the chatbot feel intelligent and helpful.\n",
        "\n",
        "4. **REACT Architecture:**\n",
        "\n",
        "* SystemMessage: Defines the chatbot’s domain expertise.\n",
        "\n",
        "* HumanMessage: Captures user input.\n",
        "\n",
        "* AIMessage: Generates dynamic, relevant responses based on prior memory.\n",
        "\n",
        "5. **LLM Integration:**\n",
        "\n",
        "Powered by Google Gemini’s **gemini-1.5-flash model**, enabling robust conversational capabilities.\n"
      ],
      "metadata": {
        "id": "kCjq950MYmHg"
      }
    },
    {
      "cell_type": "code",
      "source": [
        "# Run the chatbot\n",
        "urban_gardening_chatbot()"
      ],
      "metadata": {
        "colab": {
          "base_uri": "https://localhost:8080/"
        },
        "id": "QAnFgyoTRhju",
        "outputId": "5e27df1c-a421-4842-b9b0-79c595a735b2"
      },
      "execution_count": null,
      "outputs": [
        {
          "name": "stdout",
          "output_type": "stream",
          "text": [
            "Welcome to Urban Plant Whisperer Chatbot!\n",
            "Ask me anything about starting or improving your urban garden.\n",
            "Type 'exit' or 'quit' to end the conversation.\n",
            "Type 'check memory' to see the current memory.\n",
            "\n",
            "You: hi\n"
          ]
        },
        {
          "output_type": "stream",
          "name": "stderr",
          "text": [
            "<ipython-input-4-5664a00c4027>:40: LangChainDeprecationWarning: The method `BaseChatModel.__call__` was deprecated in langchain-core 0.1.7 and will be removed in 1.0. Use :meth:`~invoke` instead.\n",
            "  response = llm(memory)  # Pass the entire memory for context\n"
          ]
        },
        {
          "output_type": "stream",
          "name": "stdout",
          "text": [
            "Urban Gardening Bot: Hi there!  Welcome!  What's on your mind today regarding urban gardening?  I'm happy to help you with any questions you have, whether you're a complete beginner or looking to refine your existing techniques.  Let's grow something amazing together!\n",
            "You: check memory\n",
            "\n",
            "Current Memory:\n",
            "System: You are an expert in urban gardening, providing tips, tricks, and step-by-step guidance to people interested in small-space gardening.\n",
            "You: hi\n",
            "Bot: Hi there!  Welcome!  What's on your mind today regarding urban gardening?  I'm happy to help you with any questions you have, whether you're a complete beginner or looking to refine your existing techniques.  Let's grow something amazing together!\n",
            "\n",
            "\n",
            "You: exit\n",
            "Goodbye! Happy Gardening!\n"
          ]
        }
      ]
    },
    {
      "cell_type": "code",
      "execution_count": null,
      "metadata": {
        "id": "mUEKMoKTijZe"
      },
      "outputs": [],
      "source": [
        "import os\n",
        "from google.colab import userdata\n",
        "TAVILY_API_KEY = userdata.get('TAVILY_API_KEY')\n",
        "os.environ[\"TAVILY_API_KEY\"] = userdata.get('TAVILY_API_KEY')\n",
        "\n",
        "from langchain_community.tools.tavily_search import TavilySearchResults\n",
        "tavily_search = TavilySearchResults(max_results=3)\n",
        "search_docs = tavily_search.invoke(\"give me some urban gardening tricks?\")"
      ]
    },
    {
      "cell_type": "markdown",
      "source": [
        "# How Tavily Was Used for the Urban Gardening Chatbot\n",
        "\n",
        "1. **Enhancing Knowledge Base:**\n",
        "\n",
        "Tavily was integrated into the chatbot to provide additional insights on urban gardening tricks, fetching real-time suggestions from external sources.\n",
        "\n",
        "2. **Search Results in Conversation:**\n",
        "\n",
        "Users can ask, \"Give me some urban gardening tricks?\" and the chatbot fetches:\n",
        "\n",
        "* Titles of relevant articles.\n",
        "\n",
        "* Links to resources.\n",
        "\n",
        "* Short descriptions (snippets) summarizing the content.\n",
        "\n",
        "3. **Dynamic Interaction:**\n",
        "\n",
        "Tavily ensures the chatbot is not limited by static preloaded content and can answer questions with fresh and verified knowledge.\n",
        "\n"
      ],
      "metadata": {
        "id": "iW4RPeCgdPji"
      }
    },
    {
      "cell_type": "code",
      "source": [
        "search_docs"
      ],
      "metadata": {
        "colab": {
          "base_uri": "https://localhost:8080/"
        },
        "id": "g5fNB53pTF2L",
        "outputId": "547af537-5c58-412b-c09c-cf57091afc60"
      },
      "execution_count": null,
      "outputs": [
        {
          "output_type": "execute_result",
          "data": {
            "text/plain": [
              "[{'url': 'https://flowerbuzz.org/basics/basic-urban-gardening/',\n",
              "  'content': 'A: Some tips for successful urban gardening include choosing plants that are suitable for your space and climate, managing your time and energy effectively, considering indoor gardening options, utilizing vertical space, protecting plants from pests and theft, and addressing potential issues like lead contamination and necessary permits.'},\n",
              " {'url': 'https://urbangardeningspace.com/blog/master-diy-urban-gardening-your-ultimate-guide-and-tips/',\n",
              "  'content': 'Urban gardens, just like their rural counterparts, are susceptible to pests that can damage plants and hinder their growth. However, with some urban gardening tips and techniques, you can effectively manage and prevent pest infestations in your garden. Here are some hacks to deal with common pests in an urban garden: 1.'},\n",
              " {'url': 'https://www.gardeningknowhow.com/ideas-inspiration/urban-garden-ideas',\n",
              "  'content': 'If you have a small yard for gardening, a few simple landscaping tricks to connect a garden will help to make it look larger. Create a curving path to create depth and the appearance of it winding off into the distance. Use climbing plants on overlapping trellises to act as privacy screens that give the illusion that there are more plants deeper in the garden.'}]"
            ]
          },
          "metadata": {},
          "execution_count": 7
        }
      ]
    },
    {
      "cell_type": "markdown",
      "source": [
        "# Summary\n",
        "\n",
        "This project demonstrates how to create a niche-specific chatbot for urban gardening using LangChain. By leveraging `ChatGoogleGenerativeAI` and  Tavily integration, the chatbot delivers actionable insights and external references.\n"
      ],
      "metadata": {
        "id": "HXk0gKIqd2qC"
      }
    }
  ],
  "metadata": {
    "colab": {
      "provenance": [],
      "authorship_tag": "ABX9TyN/VJaJyDbBbOPoDv9SI8P/",
      "include_colab_link": true
    },
    "kernelspec": {
      "display_name": "Python 3",
      "name": "python3"
    },
    "language_info": {
      "name": "python"
    }
  },
  "nbformat": 4,
  "nbformat_minor": 0
}